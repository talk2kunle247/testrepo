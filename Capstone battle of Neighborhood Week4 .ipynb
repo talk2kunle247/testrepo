{
    "cells": [
        {
            "cell_type": "markdown",
            "metadata": {
                "collapsed": true
            },
            "source": "**The Battle of Neighborhoods: Finding the Best Location for an African/Caribbean Store and Restaurant in Toronto, CA**\n\n**Introduction/Busi:**\n\nThe purpose of this project is to find the best location or neighborhood for an African/ Caribbean store or restaurant. In recent times, immigration of Africans and Caribbean to Canada especially the Toronto region has increased significantly. This project will interest entrepreneur trying to setup Afro-Caribbean store and restaurant to capitalize on this increase in population while maximizing sales and profit by situating the store or restaurant in a less competitive neighborhood.\nThe idea is to categorize the neighborhood into clusters and apply the Foursquare API to find the neighborhood with the least number of Afro-Caribbean stores or restaurants. An efficient and easy way will be to use Foursquare explore tool to obtain a list of existing stores in our clusters and then recommend a distant location to capture others and newer market that might be too far from the existing locations. Another method will be to use the demography of Toronto and try to find where most Africans and Caribbean dwell, go to school and work. However, the later method is a mere common sense without any Data insight and extensively manual.\n\n**Data:**\n\nAs mentioned earlier we will be using the Foursquare API data for different neighborhood in Toronto. Foursquare is a location data provider with information about all manner of venues and events within an area of interest. Such information includes venue names, locations, menus and even photos as well as Free Wi-Fi locations. For each neighborhood selected, we will use a radius of 500 meter and a limit of 100 locations. The data retrieved from Foursquare contained information of venues within a specified distance of the longitude and latitude of the postcodes. The information obtained per venue as follows:\nNeighborhood, neighborhood latitude, neighborhood longitude\nVenue, name of the venue, venue latitude, venue longitude, venue category\nFor the Neighborhood data will be scrapping the data from the Canadian neighborhood Wikipedia page https://en.wikipedia.org/wiki/List_of_postal_codes_of_Canada:_M\nSome of the Python libraries that will be used in the Data wrangling include:\n\n\na.\tPandas: For creating dataframe\n\nb.\tScikit Learn: For importing k-means clustering\n\nc.\tMatplotlib: Python Plotting Module\n\nd.\tFolium: Python visualization library would be used to visualize the neighborhoods cluster distribution of using interactive leaflet map\n\ne.\tJSON: Library to handle JSON files\n\nf.\tGeocoder: To retrieve Location Data\n\n\n"
        },
        {
            "cell_type": "code",
            "execution_count": null,
            "metadata": {},
            "outputs": [],
            "source": ""
        }
    ],
    "metadata": {
        "kernelspec": {
            "display_name": "Python 3.7",
            "language": "python",
            "name": "python3"
        },
        "language_info": {
            "codemirror_mode": {
                "name": "ipython",
                "version": 3
            },
            "file_extension": ".py",
            "mimetype": "text/x-python",
            "name": "python",
            "nbconvert_exporter": "python",
            "pygments_lexer": "ipython3",
            "version": "3.7.9"
        }
    },
    "nbformat": 4,
    "nbformat_minor": 1
}